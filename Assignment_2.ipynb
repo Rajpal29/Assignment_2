{
 "cells": [
  {
   "cell_type": "markdown",
   "metadata": {},
   "source": [
    "## Assignment_2"
   ]
  },
  {
   "cell_type": "code",
   "execution_count": 51,
   "metadata": {},
   "outputs": [],
   "source": [
    "import pandas as pd\n",
    "import os"
   ]
  },
  {
   "cell_type": "code",
   "execution_count": 52,
   "metadata": {},
   "outputs": [],
   "source": [
    "df = pd.read_csv('./FDNY.csv')"
   ]
  },
  {
   "cell_type": "markdown",
   "metadata": {},
   "source": [
    "### 1. The total number of fire department facilities in New York city"
   ]
  },
  {
   "cell_type": "markdown",
   "metadata": {},
   "source": [
    "#### assuming each FacilityName is a fire department facility "
   ]
  },
  {
   "cell_type": "code",
   "execution_count": 53,
   "metadata": {},
   "outputs": [
    {
     "data": {
      "text/plain": [
       "219"
      ]
     },
     "execution_count": 53,
     "metadata": {},
     "output_type": "execute_result"
    }
   ],
   "source": [
    "df['FacilityName'].nunique()"
   ]
  },
  {
   "cell_type": "markdown",
   "metadata": {},
   "source": [
    "### 2. The number of fire department facilities in each borough"
   ]
  },
  {
   "cell_type": "code",
   "execution_count": 55,
   "metadata": {},
   "outputs": [
    {
     "data": {
      "text/plain": [
       "Borough        FacilityName                                 \n",
       "Borough        FacilityName                                     1\n",
       "Bronx            Engine 96/Ladder 54                            1\n",
       "               Bronx Borough Command, District Office 6 & 7     1\n",
       "               EMS Station 17                                   1\n",
       "               EMS Station 26                                   1\n",
       "                                                               ..\n",
       "Staten Island  Engine 166/Ladder 86                             1\n",
       "               Engine 167/Ladder 87                             1\n",
       "               Engine 168/EMS Station 23                        1\n",
       "               Ladder 79/Battalion 22                           1\n",
       "               Marine 9                                         1\n",
       "Name: count, Length: 219, dtype: int64"
      ]
     },
     "execution_count": 55,
     "metadata": {},
     "output_type": "execute_result"
    }
   ],
   "source": [
    "\n",
    "df[\"count\"] = 1 \n",
    "df.groupby([\"Borough\", \"FacilityName\"]).count()[\"count\"]"
   ]
  }
 ],
 "metadata": {
  "interpreter": {
   "hash": "a6cc48f21658e951fd7307dba18cbfa6fb38899d096255d020f7967e3de8ea60"
  },
  "kernelspec": {
   "display_name": "Python 3.9.8 64-bit",
   "language": "python",
   "name": "python3"
  },
  "language_info": {
   "codemirror_mode": {
    "name": "ipython",
    "version": 3
   },
   "file_extension": ".py",
   "mimetype": "text/x-python",
   "name": "python",
   "nbconvert_exporter": "python",
   "pygments_lexer": "ipython3",
   "version": "3.9.8"
  },
  "orig_nbformat": 4
 },
 "nbformat": 4,
 "nbformat_minor": 2
}
